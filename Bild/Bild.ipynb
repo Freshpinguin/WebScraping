{
 "cells": [
  {
   "cell_type": "code",
   "execution_count": 1,
   "metadata": {},
   "outputs": [],
   "source": [
    "import requests\n",
    "from bs4 import BeautifulSoup as soup\n",
    "import re"
   ]
  },
  {
   "cell_type": "code",
   "execution_count": 2,
   "metadata": {},
   "outputs": [],
   "source": [
    "index_soup = soup(requests.get('https://www.bild.de/').text)"
   ]
  },
  {
   "cell_type": "code",
   "execution_count": 3,
   "metadata": {},
   "outputs": [],
   "source": [
    "def get_links_of_date(day, month, year):\n",
    "    \n",
    "    url = f\"https://www.bild.de/archive/{year}/{month}/{day}/index.html\"\n",
    "    \n",
    "    # Search function to only find p tags containing extactly one 'a' tag having a href attr \n",
    "    def search_function(tag, filter_href= lambda x: True):\n",
    "        if not tag.name == 'p':\n",
    "            return False\n",
    "        containing_a = tag.find_all('a')\n",
    "        if not len(containing_a) == 1:\n",
    "            return False\n",
    "        a = containing_a[0]\n",
    "        if not 'href' in a.attrs:\n",
    "            return False\n",
    "        if 'bild-plus' in a['href']:            # filter bild-plus\n",
    "            return False\n",
    "        if 'video/clip' in a['href']:           # filter videos\n",
    "            return False \n",
    "        if not filter_href(a['href']): # only articles in politic\n",
    "            return False\n",
    "        return True\n",
    "\n",
    "    # Filter href for keywords\n",
    "    def filter_href(href):\n",
    "        if not href.startswith('/politik') and not href.startswith('/news'):\n",
    "            return False\n",
    "        if not 'ukraine' in href:\n",
    "            return False\n",
    "        return True\n",
    "\n",
    "    \n",
    "    \n",
    "    html_text = requests.get(url).text\n",
    "\n",
    "    archiv_soup = soup(html_text)\n",
    "    \n",
    "    list_articles = archiv_soup.find('div', class_='txt')\n",
    "    \n",
    "    ex = list_articles.find_all(lambda x: search_function(x, filter_href))\n",
    "\n",
    "    return [{'href':\"https://www.bild.de\"+p.find('a')['href'], 'title': p.find('a').text} for  p in ex]"
   ]
  },
  {
   "cell_type": "code",
   "execution_count": 4,
   "metadata": {},
   "outputs": [
    {
     "data": {
      "text/plain": [
       "[{'href': 'https://www.bild.de/politik/inland/politik-inland/ukraine-chancenlos-ueber-diese-deutschen-experten-freut-sich-putin-79854620.bild.html',\n",
       "  'title': 'Ukraine chancenlos? Über diese deutschen Experten freut sich Putin'},\n",
       " {'href': 'https://www.bild.de/politik/ausland/politik-ausland/ukraine-krieg-dj-zoff-wegen-putins-krieg-plattenfirmen-muessen-vertraege-kuendig-79853820.bild.html',\n",
       "  'title': 'Ukraine-Krieg - DJ-Zoff wegen Putins Krieg: „Plattenfirmen müssen Verträge kündigen!“'},\n",
       " {'href': 'https://www.bild.de/politik/ausland/politik/ukraine-briten-zeitung-fordert-sanktionen-gegen-deutschland-wegen-putins-gas-79838242.bild.html',\n",
       "  'title': 'Ukraine: Briten-Zeitung fordert Sanktionen gegen Deutschland – wegen Putins Gas'},\n",
       " {'href': 'https://www.bild.de/politik/ausland/politik-ausland/ukraine-krieg-gegen-putins-truppen-soll-phoenix-ghost-drohne-helfen-79843232.bild.html',\n",
       "  'title': 'Ukraine-Krieg: Gegen Putins Truppen soll „Phoenix Ghost“-Drohne helfen'},\n",
       " {'href': 'https://www.bild.de/politik/2022/politik/krieg-in-der-ukraine-neues-massengrab-mit-9000-leichen-entdeckt-79845084.bild.html',\n",
       "  'title': 'Krieg in der Ukraine: Neues Massengrab mit 9000 Leichen entdeckt'}]"
      ]
     },
     "execution_count": 4,
     "metadata": {},
     "output_type": "execute_result"
    }
   ],
   "source": [
    "get_links_of_date(22,4,2022)"
   ]
  },
  {
   "cell_type": "code",
   "execution_count": 5,
   "metadata": {},
   "outputs": [],
   "source": [
    "url = 'https://www.bild.de/politik/ausland/politik-ausland/krieg-in-der-ukraine-putin-will-negative-szenarien-verhindern-79006554.bild.html'"
   ]
  },
  {
   "cell_type": "code",
   "execution_count": 6,
   "metadata": {},
   "outputs": [],
   "source": [
    "url2 = 'https://www.bild.de/politik/2022/politik/krieg-in-der-ukraine-neues-massengrab-mit-9000-leichen-entdeckt-79845084.bild.html'"
   ]
  },
  {
   "cell_type": "code",
   "execution_count": 7,
   "metadata": {},
   "outputs": [],
   "source": [
    "def get_article_content(url):\n",
    "    article_soup = soup(requests.get(url).text)\n",
    "    title = article_soup.find('span', class_='headline')\n",
    "    title_txt = title.text\n",
    "\n",
    "    kicker = article_soup.find('span', class_='kicker')\n",
    "    kicker_txt = kicker.text\n",
    "\n",
    "    authors = article_soup.find('span', class_='authors__name')\n",
    "    authors_txt = authors.text\n",
    "\n",
    "    figcaptions = article_soup.find_all('figcaption')\n",
    "    figcaption_txt = ' '.join([a.contents[0] for a in figcaptions])\n",
    "\n",
    "    text_paragraphs = article_soup.find('div', class_='txt').find_all('p', recursive=False)\n",
    "    txt = ' '.join([a.text for a in text_paragraphs])\n",
    "    \n",
    "    pubdate = article_soup.find('time', class_='authors__pubdate').text\n",
    "    \n",
    "    dictionary = {\n",
    "        'title': title_txt,\n",
    "        'kicker': kicker_txt,\n",
    "        'authors': authors_txt,\n",
    "        'figcaptions': figcaption_txt,\n",
    "        'text':txt,\n",
    "        'date': pubdate\n",
    "    }\n",
    "    return dictionary"
   ]
  },
  {
   "cell_type": "code",
   "execution_count": 8,
   "metadata": {},
   "outputs": [
    {
     "data": {
      "text/plain": [
       "{'title': 'Verscharrte Putin hier die Kriegsopfer von Mariupol?',\n",
       " 'kicker': 'Neues Massengrab entdeckt',\n",
       " 'authors': 'Matthias Hoffmann',\n",
       " 'figcaptions': '\\n                            VORHER: Die Aufnahme stammt vom 19. März. Unterhalb der Straße sind keine Aushebungen zu sehen \\n                            NACHHER: Das gleiche Gebiet, unterhalb der Straße das mutmaßliche Massengrab (Aufnahme vom 3.\\xa0April) \\n',\n",
       " 'text': 'Die russischen Gräueltaten nehmen kein Ende. In Manhusch in der Nähe von Mariupol soll ein Massengrab mit bis zu 9000 Toten entdeckt worden sein. Das schreibt der Bürgermeister der inzwischen nahezu vollständig zerstörten Stadt bei Telegram. Wadym Bojtschenko wirft den Russen vor, „ihre Kriegsverbrechen verheimlichen“ zu wollen. Sie hätten die Leichen von Zivilisten aus Mariupol geschafft und in dem rund 20 Kilometer westlich gelegenen Städtchen verscharrt. Seit dem 1. März belagern Putins Truppen die Stadt, haben sie in Grund und Boden gebombt. Tausenden Zivilisten sind bereits gestorben.  Tatsächlich: Satellitenbilder des Unternehmens Maxar Technologies zeigen Vorher-Nachher-Bilder – aufgenommen am 19.\\xa0März und 3.\\xa0April – entlang einer Straße. Deutlich zu sehen: Aushebungen, welche das lang gezogene Massengrab sein sollen. Laut Maxar wurden die Gruben in Manhusch Ende März ausgehoben und im Laufe der folgenden Wochen erweitert. Würdelos: „Die Körper der Toten wurden mit Lastwagen gebracht und einfach in die Gruben gekippt“, so ein Berater des Bürgermeisters. Angesichts der aktuellen russischen Kriegsverbrechen spricht Bojtschenko von einem „neuen Babyn Jar“. In dem gleichnamigen Tal hatten Nationalsozialisten 1941 mehr als 33\\xa0000 jüdische Männer, Frauen und Kinder ermordet. „Jetzt vernichtet Putin Ukrainer. Er hat in Mariupol schon Zehntausende Zivilisten getötet“, zitiert ein Stadtrat den Bürgermeister.  Wadym Bojtschenko forderte ein Eingreifen der internationalen Staatengemeinschaft. „Wir müssen diesen Völkermord stoppen, mit allen Mitteln, die möglich sind“, so der Bürgermeister. Er bestreitet aber, dass Mariupol in die Hände der russischen Angreifer gefallen sei. „Die Stadt war, ist und bleibt ukrainisch.“ Und weiter: „Auch heute verteidigen unsere tapferen Krieger und Helden unsere Stadt.“ Immer wieder schockieren Putins Schergen auf ukrainischem Boden mit Gräueltaten: In Butscha etwa lagen Tote mit hinter dem Rücken gefesselten Händen auf den Straßen. Auch aus vielen anderen Städten und Dörfern gab es Berichte von Folter, Vergewaltigungen und Massenmorden an Zivilisten. ',\n",
       " 'date': '22.04.2022 - 11:08 Uhr'}"
      ]
     },
     "execution_count": 8,
     "metadata": {},
     "output_type": "execute_result"
    }
   ],
   "source": [
    "get_article_content(url2)"
   ]
  },
  {
   "cell_type": "code",
   "execution_count": null,
   "metadata": {},
   "outputs": [],
   "source": []
  }
 ],
 "metadata": {
  "kernelspec": {
   "display_name": "myenv",
   "language": "python",
   "name": "myenv"
  },
  "language_info": {
   "codemirror_mode": {
    "name": "ipython",
    "version": 3
   },
   "file_extension": ".py",
   "mimetype": "text/x-python",
   "name": "python",
   "nbconvert_exporter": "python",
   "pygments_lexer": "ipython3",
   "version": "3.10.4"
  }
 },
 "nbformat": 4,
 "nbformat_minor": 5
}
