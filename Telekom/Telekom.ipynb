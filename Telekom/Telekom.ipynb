{
 "cells": [
  {
   "cell_type": "code",
   "execution_count": 1,
   "metadata": {},
   "outputs": [],
   "source": [
    "import requests\n",
    "from bs4 import BeautifulSoup as soup\n",
    "from bs4 import element\n",
    "import re\n",
    "import lxml"
   ]
  },
  {
   "cell_type": "code",
   "execution_count": 18,
   "metadata": {},
   "outputs": [],
   "source": [
    "# to print output of all statements and not just the last\n",
    "from IPython.core.interactiveshell import InteractiveShell\n",
    "InteractiveShell.ast_node_interactivity = \"all\""
   ]
  },
  {
   "cell_type": "markdown",
   "metadata": {},
   "source": [
    "## Getting links and metadata from https://www.t-online.de/nachrichten/ausland/id_91726686/ukraine-krieg-alle-infos-zum-konflikt-und-der-aktuellen-lage-im-kriegsgebiet.html"
   ]
  },
  {
   "cell_type": "markdown",
   "metadata": {},
   "source": [
    "In der offiziellen Website geht Page von 1 bis 5.\n",
    "Wenn man größere Werte einsetzt bekommt man aber auch ältere Artikel. Vielleicht doch wie ein Archiv Benutzbar?"
   ]
  },
  {
   "cell_type": "code",
   "execution_count": 28,
   "metadata": {},
   "outputs": [],
   "source": [
    "def extract_url_meta(page=1):\n",
    "    url = f'https://www.t-online.de/nachrichten/ausland/id_91726686/page_{page}/ukraine-krieg-alle-infos-zum-konflikt-und-der-aktuellen-lage-im-kriegsgebiet.html'\n",
    "    \n",
    "    ukraine_soup = soup(requests.get(url).text)\n",
    "\n",
    "    list_content = ukraine_soup.find('div',class_='Tautcntpagin').find_all('div',class_='Tmm Tts Tmc3 Tww2 Thh2')\n",
    "\n",
    "    def extract(article):\n",
    "        one_content = article\n",
    "\n",
    "        url = one_content.find('a')['href']\n",
    "\n",
    "\n",
    "        kicker = one_content.find('h6').text\n",
    "\n",
    "\n",
    "        title = one_content.find('h5').text\n",
    "\n",
    "        return_dict = {\n",
    "            'url': url,\n",
    "            'kicker':kicker,\n",
    "            'title': title\n",
    "        }\n",
    "\n",
    "        return return_dict\n",
    "\n",
    "    return [extract(new) for new in list_content]\n"
   ]
  },
  {
   "cell_type": "code",
   "execution_count": 35,
   "metadata": {},
   "outputs": [
    {
     "data": {
      "text/plain": [
       "[{'url': 'https://www.t-online.de/nachrichten/ausland/id_70876312/poroschenko-trifft-merkel-und-obama-vor-nato-gipfel.html',\n",
       "  'kicker': 'Noch vor dem Gipfel in Wales',\n",
       "  'title': 'Poroschenko trifft Merkel, Obama und weitere Nato-Vertreter'},\n",
       " {'url': 'https://www.t-online.de/nachrichten/ausland/id_70872848/rede-in-tallinn-obama-droht-russland.html',\n",
       "  'kicker': 'Rede in Tallinn',\n",
       "  'title': 'Obama droht Russland'},\n",
       " {'url': 'https://www.t-online.de/nachrichten/ausland/id_70870542/ukraine-lehnt-sieben-punkte-plan-von-putin-ab.html',\n",
       "  'kicker': 'Augenwischerei vor Nato-Gipfel?',\n",
       "  'title': 'Kiew lehnt Putins Sieben-Punkte-Friedensplan ab'},\n",
       " {'url': 'https://www.t-online.de/nachrichten/ausland/id_70867400/ukraine-krise-russland-wird-eine-niederlage-nicht-hinnehmen-.html',\n",
       "  'kicker': 'Ukraine-Krise',\n",
       "  'title': '\"Russland wird eine Niederlage nicht hinnehmen\"'},\n",
       " {'url': 'https://www.t-online.de/nachrichten/ausland/id_70866102/ukraine-krise-moskau-dementiert-einigung-auf-waffenruhe.html',\n",
       "  'kicker': 'Ukraine-Krise',\n",
       "  'title': 'Kreml dementiert Einigung auf Waffenruhe'},\n",
       " {'url': 'https://www.t-online.de/nachrichten/ausland/id_70862404/putin-und-poroschenko-naehern-sich-in-ukraine-krise-an.html',\n",
       "  'kicker': 'Widersprüchliche Signale in der Ukraine-Krise',\n",
       "  'title': 'Moskau: Putin und Poroschenko nähern sich an'},\n",
       " {'url': 'https://www.t-online.de/nachrichten/deutschland/id_70852116/ralf-stegner-verteidigt-joachim-gauck-gegen-riexinger-kritik.html',\n",
       "  'kicker': '\"Groteske Verdrehung\"',\n",
       "  'title': 'Stegner verteidigt Gauck gegen Riexinger-Kritik'},\n",
       " {'url': 'https://www.t-online.de/nachrichten/ausland/id_70850492/ukraine-krise-barack-obama-sagt-unterstuetzung-fuer-nato-staaten-zu.html',\n",
       "  'kicker': 'Angst vor Russland',\n",
       "  'title': 'Obama sichert östlichen Nato-Partnern Unterstützung zu'},\n",
       " {'url': 'https://www.t-online.de/nachrichten/ausland/id_70845764/joachim-gauck-verlangt-rueckkehr-zum-voelkerrecht-von-russland.html',\n",
       "  'kicker': 'Rede in Polen',\n",
       "  'title': 'Gauck fordert entschlossene Reaktion auf Russland'},\n",
       " {'url': 'https://www.t-online.de/nachrichten/ausland/id_70839540/ukraine-krise-militaer-gibt-flughafen-von-lugansk-auf.html',\n",
       "  'kicker': 'Nach Artilleriebeschuss',\n",
       "  'title': 'Ukrainisches Militär gibt Flughafen von Lugansk auf'},\n",
       " {'url': 'https://www.t-online.de/nachrichten/ausland/id_70829020/nato-mitglieder-wollen-grenze-zu-russland-aufruesten.html',\n",
       "  'kicker': 'Diplomatie versagt',\n",
       "  'title': 'Nato-Mitglieder wollen Grenze zu Russland aufrüsten'},\n",
       " {'url': 'https://www.t-online.de/nachrichten/ausland/internationale-politik/id_70355938/grossbritannien-firmen-liefern-trotz-weiter-waffen-nach-russland.html',\n",
       "  'kicker': 'Zahlreiche Exportgenehmigungen',\n",
       "  'title': 'Britische Firmen liefern weiter Waffen nach Russland'},\n",
       " {'url': 'https://www.t-online.de/nachrichten/ausland/id_70325374/ukraine-krise-kampf-um-donezk-flammt-auf-tote-auch-in-lugansk.html',\n",
       "  'kicker': 'Tote und Verletzte',\n",
       "  'title': 'Kampf um Donezk flammt auf'},\n",
       " {'url': 'https://www.t-online.de/nachrichten/ausland/id_69540974/ukraine-kuendigt-endphase-der-saeuberung-an.html',\n",
       "  'kicker': 'Separatisten im Visier',\n",
       "  'title': 'Ukraine kündigt Endphase der \"Säuberung\" an'},\n",
       " {'url': 'https://www.t-online.de/nachrichten/ausland/id_69536020/zehntausende-kraefte-sollen-ukrainische-praesidentenwahl-sichern.html',\n",
       "  'kicker': 'Ukraine-Krise',\n",
       "  'title': 'Zehntausende Freiwillige sollen Wahl sichern'},\n",
       " {'url': 'https://www.t-online.de/nachrichten/ausland/id_69518456/in-china-hat-russland-wieder-einen-engen-verbuendeten.html',\n",
       "  'kicker': '\"Gemeinsame Werte\"',\n",
       "  'title': 'Einen engen Verbündeten hat Russland wieder'},\n",
       " {'url': 'https://www.t-online.de/nachrichten/ausland/id_69392114/separatistenfuehrer-der-ost-ukraine-marschieren-in-moskaus-arme.html',\n",
       "  'kicker': 'Ost-Ukraine steuert Russland an',\n",
       "  'title': '\"Volksrepublik Donezk\" will notfalls \"Friedenstruppen\"'},\n",
       " {'url': 'https://www.t-online.de/nachrichten/ausland/id_69385628/ukraine-krise-eu-beschliesst-neue-krim-sanktionen.html',\n",
       "  'kicker': 'Weiter Kämpfe in Ost-Ukraine',\n",
       "  'title': 'EU beschließt neue Krim-Sanktionen'},\n",
       " {'url': 'https://www.t-online.de/nachrichten/ausland/id_69334098/-russland-will-wissen-wie-stehen-wir-zur-ukraine-krise-.html',\n",
       "  'kicker': 'Verfassungsschutz warnt',\n",
       "  'title': '\"Russland will wissen: Wie stehen wir zur Ukraine-Krise?\"'},\n",
       " {'url': 'https://www.t-online.de/nachrichten/ausland/id_68753850/wladimir-putins-sprecher-umgarnt-bundeskanzlerin-angela-merkel.html',\n",
       "  'kicker': 'Putins Sprecher umgarnt Merkel',\n",
       "  'title': '\"Der Dialog an sich ist außerordentlich wertvoll\"'},\n",
       " {'url': 'https://www.t-online.de/nachrichten/ausland/id_68755384/auf-der-krim-ticken-die-uhren-nun-wie-in-moskau.html',\n",
       "  'kicker': 'Nächster Schritt bei Eingliederung',\n",
       "  'title': 'Auf der Krim gilt nun die Moskauer Zeit'}]"
      ]
     },
     "execution_count": 35,
     "metadata": {},
     "output_type": "execute_result"
    }
   ],
   "source": [
    "extract_url_meta(500)"
   ]
  }
 ],
 "metadata": {
  "kernelspec": {
   "display_name": "myenv",
   "language": "python",
   "name": "myenv"
  },
  "language_info": {
   "codemirror_mode": {
    "name": "ipython",
    "version": 3
   },
   "file_extension": ".py",
   "mimetype": "text/x-python",
   "name": "python",
   "nbconvert_exporter": "python",
   "pygments_lexer": "ipython3",
   "version": "3.10.4"
  }
 },
 "nbformat": 4,
 "nbformat_minor": 4
}
