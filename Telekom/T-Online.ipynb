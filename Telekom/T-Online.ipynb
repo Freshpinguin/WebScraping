{
 "cells": [
  {
   "cell_type": "code",
   "execution_count": 1,
   "metadata": {},
   "outputs": [],
   "source": [
    "import requests\n",
    "from bs4 import BeautifulSoup as soup\n",
    "from bs4 import element\n",
    "import re\n",
    "import lxml"
   ]
  },
  {
   "cell_type": "code",
   "execution_count": 3,
   "metadata": {},
   "outputs": [],
   "source": [
    "# to print output of all statements and not just the last\n",
    "from IPython.core.interactiveshell import InteractiveShell\n",
    "InteractiveShell.ast_node_interactivity = \"all\""
   ]
  },
  {
   "cell_type": "markdown",
   "metadata": {},
   "source": [
    "## Getting links and metadata from https://www.t-online.de/nachrichten/ausland/id_91726686/ukraine-krieg-alle-infos-zum-konflikt-und-der-aktuellen-lage-im-kriegsgebiet.html"
   ]
  },
  {
   "cell_type": "markdown",
   "metadata": {},
   "source": [
    "In der offiziellen Website geht Page von 1 bis 5.\n",
    "Wenn man größere Werte einsetzt bekommt man aber auch ältere Artikel. Vielleicht doch wie ein Archiv Benutzbar?"
   ]
  },
  {
   "cell_type": "code",
   "execution_count": 4,
   "metadata": {},
   "outputs": [],
   "source": [
    "def extract_url_meta(page=1):\n",
    "    url = f'https://www.t-online.de/nachrichten/ausland/id_91726686/page_{page}/ukraine-krieg-alle-infos-zum-konflikt-und-der-aktuellen-lage-im-kriegsgebiet.html'\n",
    "    \n",
    "    ukraine_soup = soup(requests.get(url).text)\n",
    "\n",
    "    list_content = ukraine_soup.find('div',class_='Tautcntpagin').find_all('div',class_='Tmm Tts Tmc3 Tww2 Thh2')\n",
    "\n",
    "    def extract(article):\n",
    "        one_content = article\n",
    "\n",
    "        url = one_content.find('a')['href']\n",
    "\n",
    "\n",
    "        kicker = one_content.find('h6').text\n",
    "\n",
    "\n",
    "        title = one_content.find('h5').text\n",
    "\n",
    "        return_dict = {\n",
    "            'url': url,\n",
    "            'kicker':kicker,\n",
    "            'title': title\n",
    "        }\n",
    "\n",
    "        return return_dict\n",
    "\n",
    "    return [extract(new) for new in list_content]\n"
   ]
  },
  {
   "cell_type": "code",
   "execution_count": 82,
   "metadata": {},
   "outputs": [
    {
     "data": {
      "text/plain": [
       "{'url': 'https://www.t-online.de/nachrichten/ausland/id_92070962/war-putin-wirklich-beim-oster-gottesdienst-aufnahmen-geben-raetsel-auf.html',\n",
       " 'kicker': 'Fake-Verdacht gegen den Kreml',\n",
       " 'title': 'War Putin beim Gottesdienst überhaupt vor Ort?'}"
      ]
     },
     "execution_count": 82,
     "metadata": {},
     "output_type": "execute_result"
    }
   ],
   "source": [
    "extract_url_meta(1)[1]"
   ]
  },
  {
   "cell_type": "code",
   "execution_count": 95,
   "metadata": {},
   "outputs": [],
   "source": [
    "#article_soup.find('h2')\n",
    "#<meta content=\"Darum ist das Asow-Stahlwerk so schwer einzunehmen\" property=\"og:title\"/>\n",
    "\n",
    "url = 'https://www.t-online.de/nachrichten/ausland/id_92070962/war-putin-wirklich-beim-oster-gottesdienst-aufnahmen-geben-raetsel-auf.html'\n",
    "\n",
    "def get_article_content(url):\n",
    "    article_soup = soup(requests.get(url).text)\n",
    "\n",
    "\n",
    "\n",
    "    #<div class=\"Tsbforms\" id=\"Tsbforms-top\"></div><div class=\"Tart__articleBody\" itemprop=\"articleBody\">\n",
    "\n",
    "\n",
    "    #\n",
    "    body = article_soup.find('div', {'itemprop':'articleBody'})\n",
    "    strong = body.find('b').text\n",
    "\n",
    "    text = ''.join([x.text for x in body.find_all('p')])\n",
    "\n",
    "    subheadlines = '. '.join([x.text for x in body.find_all('h3')])\n",
    "\n",
    "    date = article_soup.find('p', class_='Thl').text.split('|')[0] if article_soup.find('p', class_='Thl') else article_soup.find('span', class_='Tdate').text\n",
    "\n",
    "    author = article_soup.find('p', class_='Thl').text.split('|')[1] if article_soup.find('p', class_='Thl') else article_soup.find('p', class_='Tauth TauthAlias').text\n",
    "\n",
    "    kicker = article_soup.find('div',class_='Tart').find('p').text\n",
    "\n",
    "    title = article_soup.find('div',class_='Tart').find('span').text\n",
    "\n",
    "    kicker\n",
    "    title \n",
    "    subheadlines\n",
    "    author\n",
    "    date\n",
    "    text\n",
    "    \n",
    "    return_dict = {\n",
    "        'title': title,\n",
    "        'kicker': kicker,\n",
    "        'author':author,\n",
    "        'date':date,\n",
    "        'text':text,\n",
    "        'subheadlines': subheadlines,\n",
    "        'url': url\n",
    "    }\n",
    "    \n",
    "    return return_dict"
   ]
  },
  {
   "cell_type": "code",
   "execution_count": 96,
   "metadata": {},
   "outputs": [
    {
     "data": {
      "text/plain": [
       "'https://www.t-online.de/nachrichten/ausland/id_92070962/war-putin-wirklich-beim-oster-gottesdienst-aufnahmen-geben-raetsel-auf.html'"
      ]
     },
     "execution_count": 96,
     "metadata": {},
     "output_type": "execute_result"
    },
    {
     "data": {
      "text/plain": [
       "{'title': 'War Putin beim Gottesdienst überhaupt vor Ort?',\n",
       " 'kicker': 'Fake-Verdacht gegen den Kreml \\xa0',\n",
       " 'author': 'Von Rahel Zahlmann',\n",
       " 'date': '25.04.2022, 13:19 Uhr ',\n",
       " 'text': 'Am Sonntag feierten orthodoxe Christen das Osterfest. Auch Wladimir Putin nahm scheinbar an Feierlichkeiten in einer Kirche teil. Doch ein Blick auf die Details sorgt jetzt für Zweifel an der Echtheit der Aufnahmen. Die Propaganda der russischen Staatsmedien spielt nicht erst seit Beginn des Ukraine-Kriegs eine entscheidende Rolle in der Strategie von Wladimir Putin. Mit Falschmeldungen rund um aktuelle Geschehnisse und Hintergründe des Angriffskrieges manipuliert der Kreml das russische Volk. Jetzt taucht ein Video auf, das ein Indiz für einen weiteren Fake-Auftritt des russischen Präsidenten sein könnte.Die Aufnahmen der kirchlichen Ostermesse und welche Details der Bilder Wladimir Putin entlarven sollen, sehen Sie hier oder oben im Video.',\n",
       " 'subheadlines': '',\n",
       " 'url': 'https://www.t-online.de/nachrichten/ausland/id_92070962/war-putin-wirklich-beim-oster-gottesdienst-aufnahmen-geben-raetsel-auf.html'}"
      ]
     },
     "execution_count": 96,
     "metadata": {},
     "output_type": "execute_result"
    }
   ],
   "source": [
    "url = extract_url_meta(1)[1]['url']\n",
    "url\n",
    "get_article_content(url)"
   ]
  }
 ],
 "metadata": {
  "kernelspec": {
   "display_name": "myenv",
   "language": "python",
   "name": "myenv"
  },
  "language_info": {
   "codemirror_mode": {
    "name": "ipython",
    "version": 3
   },
   "file_extension": ".py",
   "mimetype": "text/x-python",
   "name": "python",
   "nbconvert_exporter": "python",
   "pygments_lexer": "ipython3",
   "version": "3.10.4"
  }
 },
 "nbformat": 4,
 "nbformat_minor": 4
}
