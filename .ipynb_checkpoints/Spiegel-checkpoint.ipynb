{
 "cells": [
  {
   "cell_type": "code",
   "execution_count": 1,
   "metadata": {},
   "outputs": [
    {
     "name": "stderr",
     "output_type": "stream",
     "text": [
      "/usr/local/lib/python3.8/site-packages/requests/__init__.py:89: RequestsDependencyWarning: urllib3 (1.26.9) or chardet (3.0.4) doesn't match a supported version!\n",
      "  warnings.warn(\"urllib3 ({}) or chardet ({}) doesn't match a supported \"\n"
     ]
    }
   ],
   "source": [
    "import requests\n",
    "import xml.etree.ElementTree as ET\n",
    "from bs4 import BeautifulSoup as soup\n",
    "import datetime\n",
    "from dateutil import parser"
   ]
  },
  {
   "cell_type": "code",
   "execution_count": null,
   "metadata": {},
   "outputs": [],
   "source": [
    "## Find all news that have 'Russlands Krieg gegen die Ukraine' as keyword\n",
    "\n",
    "sitemap_xml = requests.get(\"https://www.spiegel.de/sitemaps/news-de.xml\").text\n",
    "\n",
    "root = ET.fromstring(sitemap_xml)\n",
    "\n",
    "s = soup(sitemap_xml)\n",
    "\n",
    "urls = s.find('urlset').find_all('url', recursive=False)\n",
    "\n",
    "parsed_urls = [{'url': url.loc.text, \n",
    "  'keywords': url.find('n:keywords').text.replace('\\n','').split(','),\n",
    "     'publication_date': parser.parse(url.find('n:publication_date').text),\n",
    "  'title': url.find('n:title').text\n",
    " } for url in urls ]\n",
    "\n",
    "def find_urls_by_keywords(parsed_urls, filter=lambda x: True):\n",
    "    return [x for x in parsed_urls if filter(x['keywords'])]\n",
    "\n",
    "ukraine_war_urls = find_urls_by_keywords(parsed_urls, lambda x: 'Russlands Krieg gegen die Ukraine' in x)"
   ]
  },
  {
   "cell_type": "code",
   "execution_count": null,
   "metadata": {},
   "outputs": [],
   "source": [
    "\n"
   ]
  },
  {
   "cell_type": "code",
   "execution_count": 15,
   "metadata": {},
   "outputs": [
    {
     "data": {
      "text/plain": [
       "{'url': 'https://www.spiegel.de/ausland/kriegsverbrechen-in-butscha-mordmotiv-frustration-a-d5367a43-8a87-4837-86d9-282450658425',\n",
       " 'keywords': ['Ausland',\n",
       "  'Russlands Krieg gegen die Ukraine',\n",
       "  'Russland',\n",
       "  'Ukraine',\n",
       "  'Wladimir Putin',\n",
       "  'Wolodymyr Selenskyj'],\n",
       " 'publication_date': datetime.datetime(2022, 4, 4, 17, 37, 15, tzinfo=tzoffset(None, 7200)),\n",
       " 'title': 'Kriegsverbrechen in Butscha: Mordmotiv Frustration'}"
      ]
     },
     "execution_count": 15,
     "metadata": {},
     "output_type": "execute_result"
    }
   ],
   "source": [
    "ukraine_war_urls[0]"
   ]
  },
  {
   "cell_type": "code",
   "execution_count": 4,
   "metadata": {},
   "outputs": [],
   "source": [
    "article_html = requests.get(ukraine_war_urls[0]['url']).text"
   ]
  },
  {
   "cell_type": "code",
   "execution_count": 5,
   "metadata": {},
   "outputs": [],
   "source": [
    "article_soup = soup(article_html)"
   ]
  },
  {
   "cell_type": "code",
   "execution_count": 7,
   "metadata": {},
   "outputs": [
    {
     "data": {
      "text/plain": [
       "[<div class=\"RichText RichText--sans leading-loose lg:text-xl md:text-xl sm:text-l lg:mb-32 md:mb-32 sm:mb-24\">\n",
       " Als der Vormarsch der russischen Armee im Oblast Kiew gestoppt wurde, nahmen die Besatzer wahllos Rache – an Menschen, die Fahrrad fuhren oder den Hund ausführten. Eindrücke aus einer Stadt voll Zerstörung und Tod.\n",
       " </div>]"
      ]
     },
     "execution_count": 7,
     "metadata": {},
     "output_type": "execute_result"
    }
   ],
   "source": [
    "article_soup.find_all('div', class_='RichText')"
   ]
  }
 ],
 "metadata": {
  "kernelspec": {
   "display_name": "Python 3 (ipykernel)",
   "language": "python",
   "name": "python3"
  },
  "language_info": {
   "codemirror_mode": {
    "name": "ipython",
    "version": 3
   },
   "file_extension": ".py",
   "mimetype": "text/x-python",
   "name": "python",
   "nbconvert_exporter": "python",
   "pygments_lexer": "ipython3",
   "version": "3.8.13"
  }
 },
 "nbformat": 4,
 "nbformat_minor": 4
}
