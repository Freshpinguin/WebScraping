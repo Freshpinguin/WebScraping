{
 "cells": [
  {
   "cell_type": "code",
   "execution_count": 1,
   "metadata": {},
   "outputs": [
    {
     "name": "stderr",
     "output_type": "stream",
     "text": [
      "/usr/local/lib/python3.8/site-packages/requests/__init__.py:89: RequestsDependencyWarning: urllib3 (1.26.9) or chardet (3.0.4) doesn't match a supported version!\n",
      "  warnings.warn(\"urllib3 ({}) or chardet ({}) doesn't match a supported \"\n"
     ]
    }
   ],
   "source": [
    "import requests\n",
    "import xml.etree.ElementTree as ET\n",
    "from bs4 import BeautifulSoup as soup\n",
    "import datetime\n",
    "from dateutil import parser"
   ]
  },
  {
   "cell_type": "code",
   "execution_count": 112,
   "metadata": {},
   "outputs": [],
   "source": [
    "## Find all news that have 'Russlands Krieg gegen die Ukraine' as keyword\n",
    "\n",
    "sitemap_xml = requests.get(\"https://www.spiegel.de/sitemaps/news-de.xml\").text\n",
    "\n",
    "root = ET.fromstring(sitemap_xml)\n",
    "\n",
    "s = soup(sitemap_xml)\n",
    "\n",
    "urls = s.find('urlset').find_all('url', recursive=False)\n",
    "\n",
    "parsed_urls = [{'url': url.loc.text, \n",
    "  'keywords': url.find('n:keywords').text.replace('\\n','').split(','),\n",
    "     'publication_date': parser.parse(url.find('n:publication_date').text),\n",
    "  'title': url.find('n:title').text\n",
    " } for url in urls ]\n",
    "\n",
    "def find_urls_by_keywords(parsed_urls, filter=lambda x: True):\n",
    "    return [x for x in parsed_urls if filter(x['keywords'])]\n",
    "\n",
    "ukraine_war_urls = find_urls_by_keywords(parsed_urls, lambda x: 'Russlands Krieg gegen die Ukraine' in x)"
   ]
  },
  {
   "cell_type": "code",
   "execution_count": 103,
   "metadata": {},
   "outputs": [],
   "source": []
  },
  {
   "cell_type": "code",
   "execution_count": 113,
   "metadata": {},
   "outputs": [
    {
     "data": {
      "text/plain": [
       "'https://www.spiegel.de/ausland/wolodymyr-selenskyj-in-butscha-russland-hat-genozid-begangen-a-c83ba807-d42e-4945-abd6-f0cccdb7316d'"
      ]
     },
     "execution_count": 113,
     "metadata": {},
     "output_type": "execute_result"
    }
   ],
   "source": [
    "ukraine_war_urls[0]['url']"
   ]
  },
  {
   "cell_type": "code",
   "execution_count": 114,
   "metadata": {},
   "outputs": [],
   "source": [
    "article_html = requests.get(ukraine_war_urls[0]['url']).text"
   ]
  },
  {
   "cell_type": "code",
   "execution_count": 115,
   "metadata": {},
   "outputs": [],
   "source": [
    "article_soup = soup(article_html)"
   ]
  },
  {
   "cell_type": "code",
   "execution_count": 117,
   "metadata": {},
   "outputs": [
    {
     "data": {
      "text/plain": [
       "[<div class=\"RichText RichText--sans leading-loose lg:text-xl md:text-xl sm:text-l lg:mb-32 md:mb-32 sm:mb-24\">\n",
       " Wolodymyr Selenskyj ist nach Butscha gereist. Russland habe in dem Kiewer Vorort Kriegsverbrechen begangen, sagte der Präsident der Ukraine. Dennoch will er weiter mit Moskau über Frieden verhandeln.\n",
       " </div>,\n",
       " <div class=\"RichText RichText--iconLinks lg:w-8/12 md:w-10/12 lg:mx-auto md:mx-auto lg:px-24 md:px-24 sm:px-16 break-words word-wrap\">\n",
       " <p>Der ukrainische Präsident <a data-link-flag=\"spon\" href=\"https://www.spiegel.de/thema/wolodymyr_selensky/\">Wolodymyr Selenskyj</a> ist in der zerstörten Stadt Butscha angekommen. Dort seien Kriegsverbrechen begangen worden, sagte Selenskyj vor Journalisten in der kleinen Stadt rund 25 Kilometer nordwestlich der Hauptstadt <a data-link-flag=\"spon\" href=\"https://www.spiegel.de/thema/kiew/\">Kiew</a>. »Die Welt wird das als Genozid anerkennen.« Selenskyj trat in dunkelgrünem Pullover und einer Schutzweste in Tarnmuster auf und machte sich in Begleitung von bewaffneten Sicherheitskräften ein Bild von den Zerstörungen.</p><p>Die Frage eines Reporters, ob es nun immer noch möglich sei, mit <a data-link-flag=\"spon\" href=\"https://www.spiegel.de/thema/russland/\">Russland</a> über Frieden zu verhandeln, bejahte der ukrainische Staatschef: »Die <a data-link-flag=\"spon\" href=\"https://www.spiegel.de/thema/ukraine/\">Ukraine</a> muss Frieden bekommen«, sagte er. Zugleich betonte er, ein baldiger Verhandlungserfolg sei in Russlands Interesse: »Je länger die Russische Föderation den Gesprächsprozess verzögert, desto schlimmer wird es für sie.«</p>\n",
       " </div>,\n",
       " <div class=\"RichText RichText--iconLinks lg:w-8/12 md:w-10/12 lg:mx-auto md:mx-auto lg:px-24 md:px-24 sm:px-16 break-words word-wrap\">\n",
       " <h3>Russland beschuldigt die USA</h3><p>Bilder von Einwohnern der kleinen Stadt bei Kiew, in der nach dem Abzug russischer Truppen Leichen auf den Straßen lagen, lösen seit dem Wochenende weltweit Entsetzen aus. Die ukrainische Seite macht russische Soldaten für die Verbrechen verantwortlich. Selenskyj hatte bereits am Sonntag von »Völkermord« gesprochen. <a data-link-flag=\"spon\" href=\"https://www.spiegel.de/thema/moskau/\">Moskau</a> hingegen streitet die Schuld für den Tod der Zivilisten vehement ab.</p><p>Eine Sprecherin des Außenministeriums in <a href=\"https://www.spiegel.de/thema/moskau/\">Moskau</a> behauptete, die <a href=\"https://www.spiegel.de/thema/usa/\">USA</a> und ihre westlichen Partner hätten die grausamen Aufnahmen »bestellt«, um Russland die Schuld zuzuschieben. »Wer sind die Meister der Provokation? Natürlich die Vereinigten Staaten und die Nato«, sagte Sprecherin Maria Sacharowa laut der Nachrichtenagentur Reuters in einem Interview im russischen Staatsfernsehen.</p>\n",
       " </div>,\n",
       " <div class=\"RichText RichText--iconLinks RichText--lastPmb0 RichText--lastInline lg:w-8/12 md:w-10/12 lg:mx-auto md:mx-auto lg:px-24 md:px-24 sm:px-16 break-words word-wrap\">\n",
       " <p>Ukrainischen Medienberichten zufolge sind in Butscha deutlich mehr als 300 Leichen von Zivilisten geborgen worden. Bis Sonntagabend seien bereits 330 bis 340 leblose Körper eingesammelt worden, schrieb die Zeitung »Ukrajinska Prawda« unter Berufung auf einen Bestattungsdienst. Am Montag wurde die Suche nach weiteren Opfern fortgesetzt. Einige Leichen seien in Hinterhöfen vergraben, hieß es.</p><p>Am Sonntag hatte die ukrainische Seite bereits vom Fund eines Massengrabs mit etwa 280 Toten berichtet, die während der russischen Angriffe nicht würdig hätten bestattet werden können. Gerichtsmediziner und andere Spezialisten sind derzeit im Einsatz, um die Leichen zu untersuchen und Ermittlungen aufzunehmen.</p>\n",
       " <span class=\"align-text-bottom inline-flex ml-2 bottom-px relative\"><svg aria-hidden=\"true\" class=\"fill-current\" fill=\"none\" height=\"20\" role=\"img\" viewbox=\"0 0 10 20\" width=\"10\" xmlns=\"http://www.w3.org/2000/svg\">\n",
       " <g id=\"l-s-flag-e2c26f82-386c-4929-895c-c725e4c910ea\">\n",
       " <path class=\"fill-current text-black dark:text-shade-lightest\" d=\"M9.85 16.293v-8H3.212V4.667h3.533v2.24h3.212v-3.2C9.85 2.747 8.993 2 8.03 2H1.713C.749 2 0 2.747 0 3.707v7.253h6.638v4.373H3.105v-2.986H0v3.84c0 .96.75 1.706 1.713 1.706H8.03c.963.107 1.82-.64 1.82-1.6z\" id=\"vector-e2c26f82-386c-4929-895c-c725e4c910ea\"></path>\n",
       " </g>\n",
       " </svg>\n",
       " </span>\n",
       " </div>]"
      ]
     },
     "execution_count": 117,
     "metadata": {},
     "output_type": "execute_result"
    }
   ],
   "source": [
    "article_soup.find_all('div', class_='RichText')"
   ]
  }
 ],
 "metadata": {
  "kernelspec": {
   "display_name": "Python 3 (ipykernel)",
   "language": "python",
   "name": "python3"
  },
  "language_info": {
   "codemirror_mode": {
    "name": "ipython",
    "version": 3
   },
   "file_extension": ".py",
   "mimetype": "text/x-python",
   "name": "python",
   "nbconvert_exporter": "python",
   "pygments_lexer": "ipython3",
   "version": "3.8.13"
  }
 },
 "nbformat": 4,
 "nbformat_minor": 4
}
