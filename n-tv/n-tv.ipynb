{
 "cells": [
  {
   "cell_type": "code",
   "execution_count": 39,
   "metadata": {},
   "outputs": [],
   "source": [
    "import requests\n",
    "from bs4 import BeautifulSoup as soup\n",
    "from bs4 import element\n",
    "import re\n",
    "import lxml"
   ]
  },
  {
   "cell_type": "markdown",
   "metadata": {},
   "source": [
    "## Getting links and metadata from https://www.n-tv.de/news.xml"
   ]
  },
  {
   "cell_type": "code",
   "execution_count": 2,
   "metadata": {},
   "outputs": [],
   "source": [
    "def extract_meta_data():\n",
    "    news = soup(requests.get('https://www.n-tv.de/news.xml').text, features=\"xml\")\n",
    "    \n",
    "    keywords = ['Ukraine','Russland', 'Wladimir Putin']  # ToDo Keywords spezifizieren\n",
    "    \n",
    "    filtered_news = [url for url in news.find('urlset').find_all('url', recursive=False) if len(set(keywords).intersection(set(url.find('news:keywords').text.split(', '))))!=0]\n",
    "    \n",
    "    return_list = []\n",
    "    for new in filtered_news:\n",
    "        dictionary = {\n",
    "        'url' : new.find('loc').text,\n",
    "        'title' : new.find('news:title').text,\n",
    "        'date' : new.find('news:publication_date').text,\n",
    "        'keywords' : new.find('news:keywords').text\n",
    "        }\n",
    "        dictionary = { **dictionary, 'figcaption' : new.find('image:caption').text } if new.find('image:caption') else dictionary\n",
    "        return_list += [dictionary]\n",
    "        \n",
    "    return return_list\n"
   ]
  },
  {
   "cell_type": "markdown",
   "metadata": {},
   "source": [
    "## Getting text and ... from urls"
   ]
  },
  {
   "cell_type": "code",
   "execution_count": 131,
   "metadata": {},
   "outputs": [
    {
     "data": {
      "text/plain": [
       "'https://www.n-tv.de/panorama/Hunderte-ukrainische-Lehrer-bewerben-sich-in-Deutschland-article23286199.html'"
      ]
     },
     "execution_count": 131,
     "metadata": {},
     "output_type": "execute_result"
    }
   ],
   "source": [
    "url = extract_meta_data()[5]['url']\n",
    "url"
   ]
  },
  {
   "cell_type": "code",
   "execution_count": 43,
   "metadata": {},
   "outputs": [
    {
     "data": {
      "text/plain": [
       "True"
      ]
     },
     "execution_count": 43,
     "metadata": {},
     "output_type": "execute_result"
    }
   ],
   "source": [
    "type(list(article_soup.find('span', class_='article__kicker').children)[0])\n",
    "isinstance(list(article_soup.find('span', class_='article__kicker').children)[0],element.NavigableString)"
   ]
  },
  {
   "cell_type": "code",
   "execution_count": 41,
   "metadata": {},
   "outputs": [],
   "source": [
    "list(article_soup.find('span', class_='article__kicker').children)[0].name"
   ]
  },
  {
   "cell_type": "code",
   "execution_count": 127,
   "metadata": {},
   "outputs": [],
   "source": [
    "def get_article_content(url):\n",
    "    article_soup = soup(requests.get(url).text)\n",
    "    kicker = article_soup.find('span', class_='article__kicker').text\n",
    "    title =  article_soup.find('span', class_='article__headline').text\n",
    "    author = article_soup.find('span', class_='article__author').text if article_soup.find('span', class_='article__author') else ''\n",
    "    date = article_soup.find('span', class_='article__date').text\n",
    "    strong = article_soup.find('strong').text if article_soup.find('strong') else ''\n",
    "    article_text = article_soup.find('div', class_='article__text')\n",
    "    text = strong + ' '.join([x for p in article_text.find_all(lambda x: x.name =='p') for x in [i for i in p.contents if isinstance(i,element.NavigableString) if i]])\n",
    "    subheadline = '. '.join([h2.text for h2 in article_text.find_all('h2')])\n",
    "    \n",
    "    return_dict = {\n",
    "        'title': title,\n",
    "        'kicker': kicker,\n",
    "        'author':author,\n",
    "        'date':date,\n",
    "        'text':text,\n",
    "        'subheadlines': subheadline\n",
    "    }\n",
    "    \n",
    "    return return_dict\n"
   ]
  },
  {
   "cell_type": "code",
   "execution_count": 130,
   "metadata": {},
   "outputs": [
    {
     "data": {
      "text/plain": [
       "{'title': 'Hunderte ukrainische Lehrer bewerben sich in Deutschland',\n",
       " 'kicker': '\\n                    \"Willkommenskräfte\" schon aktiv',\n",
       " 'author': '',\n",
       " 'date': '24.04.2022, 10:35 Uhr',\n",
       " 'text': 'Unter den ukrainischen Geflüchteten in Deutschland sind viele Kinder. Die müssen hierzulande unterrichtet werden. Da passt es gut, dass sich mittlerweile Hunderte ukrainische Lehrer an deutschen Schulen bewerben. Allerdings könnten auch andere Branchen von weiteren Fachkräften profitieren. Die Kultusministerien der Bundesländer haben Hunderte Bewerbungen ukrainischer Lehrkräfte erhalten. In Hessen hätten sich 400 Lehrkräfte aus der Ukraine beworben, in Berlin 300, berichtete die \"Welt am Sonntag\" (Wams) unter Verweis auf eine Umfrage bei den Behörden. In weiteren Bundesländern sehe es ähnlich aus. Demnach haben zahlreiche Geflüchtete auch schon ihren Dienst an deutschen Schulen angetreten. Bayern hat dem \"Wams\"-Bericht zufolge 200 \"Willkommenskräfte\" mit ukrainischen Sprachkenntnissen eingestellt, Sachsen 122. In Berlin seien 30 ukrainische Lehrkräfte verpflichtet worden, in Hamburg 23, in Schleswig-Holstein 23, in Niedersachsen 15, in Sachsen-Anhalt acht - 14 weitere sollen dort bald folgen.  Die Präsidentin der Kultusministerkonferenz (KMK), die schleswig-holsteinische Kultusministerin Karin Prien, begrüßte diese Entwicklung. \"Unsere Erfahrung ist, dass diese ukrainischen Lehrkräfte den Schülern eine unglaubliche Hilfe sind, weil sie vor allem Halt und Sicherheit geben\", sagte sie der \"Wams\". Laut KMK werden bereits 61.000 ukrainische Schüler hierzulande unterrichtet. Die designierte Familienministerin Lisa Paus sprach sich dafür aus, ukrainische Lehrkräfte nicht nur für den Unterricht ukrainischer Schüler einzusetzen. \"Viele Ukrainerinnen, die kommen, sind bestens qualifiziert\", sagte sie den Zeitungen der Funke Mediengruppe. \"Eine Hürde ist aber die Anerkennung der qualifizierenden Abschlüsse.\" Hier wolle sie sich für kurzfristige Änderungen einsetzen. Auch in der Pflege sind ukrainische Flüchtlinge willkommen. \"Aus der Ukraine sind vor allem Frauen geflohen, viele von ihnen haben pflegerische oder medizinische Qualifikationen\", sagt Gerald Gaß, Vorstandsvorsitzender der Deutschen Krankenhausgesellschaft, der \"Welt am Sonntag.\"',\n",
       " 'subheadlines': 'Auch Pflegebereich könnte profitieren'}"
      ]
     },
     "execution_count": 130,
     "metadata": {},
     "output_type": "execute_result"
    }
   ],
   "source": [
    "get_article_content(extract_meta_data()[5]['url'])"
   ]
  }
 ],
 "metadata": {
  "kernelspec": {
   "display_name": "myenv",
   "language": "python",
   "name": "myenv"
  },
  "language_info": {
   "codemirror_mode": {
    "name": "ipython",
    "version": 3
   },
   "file_extension": ".py",
   "mimetype": "text/x-python",
   "name": "python",
   "nbconvert_exporter": "python",
   "pygments_lexer": "ipython3",
   "version": "3.10.4"
  }
 },
 "nbformat": 4,
 "nbformat_minor": 4
}
