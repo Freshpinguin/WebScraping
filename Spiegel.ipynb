{
 "cells": [
  {
   "cell_type": "code",
   "execution_count": 3,
   "metadata": {},
   "outputs": [],
   "source": [
    "import requests\n",
    "import xml.etree.ElementTree as ET\n",
    "from bs4 import BeautifulSoup as soup\n",
    "import datetime\n",
    "from dateutil import parser"
   ]
  },
  {
   "cell_type": "code",
   "execution_count": 4,
   "metadata": {},
   "outputs": [
    {
     "name": "stderr",
     "output_type": "stream",
     "text": [
      "/usr/local/Caskroom/miniconda/base/envs/myenv/lib/python3.10/site-packages/bs4/builder/__init__.py:545: XMLParsedAsHTMLWarning: It looks like you're parsing an XML document using an HTML parser. If this really is an HTML document (maybe it's XHTML?), you can ignore or filter this warning. If it's XML, you should know that using an XML parser will be more reliable. To parse this document as XML, make sure you have the lxml package installed, and pass the keyword argument `features=\"xml\"` into the BeautifulSoup constructor.\n",
      "  warnings.warn(\n"
     ]
    }
   ],
   "source": [
    "## Find all news that have 'Russlands Krieg gegen die Ukraine' as keyword\n",
    "\n",
    "sitemap_xml = requests.get(\"https://www.spiegel.de/sitemaps/news-de.xml\").text\n",
    "\n",
    "root = ET.fromstring(sitemap_xml)\n",
    "\n",
    "s = soup(sitemap_xml)\n",
    "\n",
    "urls = s.find('urlset').find_all('url', recursive=False)\n",
    "\n",
    "parsed_urls = [{'url': url.loc.text, \n",
    "  'keywords': url.find('n:keywords').text.replace('\\n','').split(','),\n",
    "     'publication_date': parser.parse(url.find('n:publication_date').text),\n",
    "  'title': url.find('n:title').text\n",
    " } for url in urls ]\n",
    "\n",
    "def find_urls_by_keywords(parsed_urls, filter=lambda x: True):\n",
    "    return [x for x in parsed_urls if filter(x['keywords'])]\n",
    "\n",
    "ukraine_war_urls = find_urls_by_keywords(parsed_urls, lambda x: 'Russlands Krieg gegen die Ukraine' in x)"
   ]
  },
  {
   "cell_type": "code",
   "execution_count": 10,
   "metadata": {},
   "outputs": [],
   "source": [
    "html_ex = requests.get('https://www.spiegel.de/panorama/justiz/fall-jeffrey-epstein-us-staatsanwalt-kritisiert-prinz-andrew-a-a6662511-900a-4392-afa8-63fedffc1b6b').text"
   ]
  },
  {
   "cell_type": "code",
   "execution_count": 29,
   "metadata": {},
   "outputs": [],
   "source": []
  },
  {
   "cell_type": "code",
   "execution_count": 31,
   "metadata": {},
   "outputs": [
    {
     "data": {
      "text/plain": [
       "'Panorama, Justiz, Fall Jeffrey Epstein, Prinz Andrew'"
      ]
     },
     "execution_count": 31,
     "metadata": {},
     "output_type": "execute_result"
    }
   ],
   "source": [
    "a['content']"
   ]
  },
  {
   "cell_type": "code",
   "execution_count": 40,
   "metadata": {},
   "outputs": [],
   "source": [
    "suppe = soup(requests.get('https://www.spiegel.de/sitemap.xml').text)\n",
    "url_liste = [x.text for x in suppe.find_all('loc')]"
   ]
  },
  {
   "cell_type": "code",
   "execution_count": 48,
   "metadata": {},
   "outputs": [],
   "source": [
    "\n",
    "linkListSuppe = soup(requests.get(url_liste[-1]).text)\n",
    "\n",
    "linkList = [x.text for x in linkListSuppe.find_all('loc')]"
   ]
  },
  {
   "cell_type": "code",
   "execution_count": 55,
   "metadata": {},
   "outputs": [
    {
     "name": "stdout",
     "output_type": "stream",
     "text": [
      "Kultur, Hollywood, Chris Rock 2022-04-01T12:10:00+02:00\n"
     ]
    }
   ],
   "source": [
    "link = linkList[0]\n",
    "\n",
    "sou = soup( requests.get(link).text)\n",
    "a = sou.find('meta', {'name':'news_keywords'})\n",
    "datum = sou.find('meta',{'name':'date'} )\n",
    "\n",
    "print(a['content'], datum['content'])"
   ]
  }
 ],
 "metadata": {
  "kernelspec": {
   "display_name": "myenv",
   "language": "python",
   "name": "myenv"
  },
  "language_info": {
   "codemirror_mode": {
    "name": "ipython",
    "version": 3
   },
   "file_extension": ".py",
   "mimetype": "text/x-python",
   "name": "python",
   "nbconvert_exporter": "python",
   "pygments_lexer": "ipython3",
   "version": "3.10.4"
  }
 },
 "nbformat": 4,
 "nbformat_minor": 4
}
