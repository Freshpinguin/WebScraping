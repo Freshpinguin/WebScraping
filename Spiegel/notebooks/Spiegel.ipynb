{
 "cells": [
  {
   "cell_type": "code",
   "execution_count": 11,
   "metadata": {
    "ExecuteTime": {
     "end_time": "2022-04-11T11:46:29.061521Z",
     "start_time": "2022-04-11T11:46:29.050715Z"
    }
   },
   "outputs": [],
   "source": [
    "import requests\n",
    "import xml.etree.ElementTree as ET\n",
    "from bs4 import BeautifulSoup as soup\n",
    "import datetime\n",
    "from dateutil import parser"
   ]
  },
  {
   "cell_type": "code",
   "execution_count": 12,
   "metadata": {
    "ExecuteTime": {
     "end_time": "2022-04-11T11:46:36.361365Z",
     "start_time": "2022-04-11T11:46:32.993388Z"
    }
   },
   "outputs": [],
   "source": [
    "## Find all news that have 'Russlands Krieg gegen die Ukraine' as keyword\n",
    "\n",
    "sitemap_xml = requests.get(\"https://www.spiegel.de/sitemaps/news-de.xml\").text\n",
    "\n",
    "root = ET.fromstring(sitemap_xml)\n",
    "\n",
    "s = soup(sitemap_xml)\n",
    "\n",
    "urls = s.find('urlset').find_all('url', recursive=False)\n",
    "\n",
    "parsed_urls = [{'url': url.loc.text, \n",
    "  'keywords': url.find('n:keywords').text.replace('\\n','').split(','),\n",
    "     'publication_date': parser.parse(url.find('n:publication_date').text),\n",
    "  'title': url.find('n:title').text\n",
    " } for url in urls ]\n",
    "\n",
    "def find_urls_by_keywords(parsed_urls, filter=lambda x: True):\n",
    "    return [x for x in parsed_urls if filter(x['keywords'])]\n",
    "\n",
    "ukraine_war_urls = find_urls_by_keywords(parsed_urls, lambda x: 'Russlands Krieg gegen die Ukraine' in x)"
   ]
  },
  {
   "cell_type": "code",
   "execution_count": null,
   "metadata": {},
   "outputs": [],
   "source": [
    "\n"
   ]
  },
  {
   "cell_type": "code",
   "execution_count": 13,
   "metadata": {
    "ExecuteTime": {
     "end_time": "2022-04-11T11:46:36.383096Z",
     "start_time": "2022-04-11T11:46:36.364296Z"
    }
   },
   "outputs": [
    {
     "data": {
      "text/plain": [
       "{'url': 'https://www.spiegel.de/wirtschaft/unternehmen/rheinmetall-bietet-ukraine-leopard-panzer-an-a-e733d728-2b90-4a38-abc3-ecc27aa83d57',\n",
       " 'keywords': ['Wirtschaft',\n",
       "  'Unternehmen',\n",
       "  'Russlands Krieg gegen die Ukraine',\n",
       "  'Waffenlieferungen',\n",
       "  'Waffen',\n",
       "  'Rheinmetall AG',\n",
       "  'Handelsblatt',\n",
       "  'Ukraine'],\n",
       " 'publication_date': datetime.datetime(2022, 4, 11, 13, 44, tzinfo=tzoffset(None, 7200)),\n",
       " 'title': 'Rheinmetall bietet Ukraine Leopard-Panzer an'}"
      ]
     },
     "execution_count": 13,
     "metadata": {},
     "output_type": "execute_result"
    }
   ],
   "source": [
    "ukraine_war_urls[0]"
   ]
  },
  {
   "cell_type": "code",
   "execution_count": 4,
   "metadata": {},
   "outputs": [],
   "source": [
    "article_html = requests.get(ukraine_war_urls[0]['url']).text"
   ]
  },
  {
   "cell_type": "code",
   "execution_count": 5,
   "metadata": {},
   "outputs": [],
   "source": [
    "article_soup = soup(article_html)"
   ]
  },
  {
   "cell_type": "code",
   "execution_count": 7,
   "metadata": {},
   "outputs": [
    {
     "data": {
      "text/plain": [
       "[<div class=\"RichText RichText--sans leading-loose lg:text-xl md:text-xl sm:text-l lg:mb-32 md:mb-32 sm:mb-24\">\n",
       " Als der Vormarsch der russischen Armee im Oblast Kiew gestoppt wurde, nahmen die Besatzer wahllos Rache – an Menschen, die Fahrrad fuhren oder den Hund ausführten. Eindrücke aus einer Stadt voll Zerstörung und Tod.\n",
       " </div>]"
      ]
     },
     "execution_count": 7,
     "metadata": {},
     "output_type": "execute_result"
    }
   ],
   "source": [
    "article_soup.find_all('div', class_='RichText')"
   ]
  }
 ],
 "metadata": {
  "kernelspec": {
   "display_name": "Python 3 (ipykernel)",
   "language": "python",
   "name": "python3"
  },
  "language_info": {
   "codemirror_mode": {
    "name": "ipython",
    "version": 3
   },
   "file_extension": ".py",
   "mimetype": "text/x-python",
   "name": "python",
   "nbconvert_exporter": "python",
   "pygments_lexer": "ipython3",
   "version": "3.9.12"
  },
  "toc": {
   "base_numbering": 1,
   "nav_menu": {},
   "number_sections": true,
   "sideBar": true,
   "skip_h1_title": false,
   "title_cell": "Table of Contents",
   "title_sidebar": "Contents",
   "toc_cell": false,
   "toc_position": {},
   "toc_section_display": true,
   "toc_window_display": false
  }
 },
 "nbformat": 4,
 "nbformat_minor": 4
}
